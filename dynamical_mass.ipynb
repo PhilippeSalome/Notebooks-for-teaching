{
 "cells": [
  {
   "cell_type": "code",
   "execution_count": 71,
   "metadata": {},
   "outputs": [],
   "source": [
    "import math\n",
    "import numpy as np\n",
    "import astropy.constants as cst\n",
    "from astropy import units as u"
   ]
  },
  {
   "cell_type": "code",
   "execution_count": 233,
   "metadata": {},
   "outputs": [
    {
     "name": "stdout",
     "output_type": "stream",
     "text": [
      "12.690432 10.8\n"
     ]
    }
   ],
   "source": [
    "# Major and Minor axis of the galaxy\n",
    "major=192\n",
    "minor=192*0.2\n",
    "Vobs=225  # km/s \n",
    "Rd=3.6    # kpc, the exponential optical disk radius \n",
    "alpha=3   # a factor to estimate the HI radius (if not mapped)\n",
    "R_HI=alpha*Rd\n",
    "D=13.6 # Mpc\n",
    "R=192*4.86e-6*13.6e6/1e3\n",
    "print(R,R_HI)"
   ]
  },
  {
   "cell_type": "code",
   "execution_count": 234,
   "metadata": {},
   "outputs": [
    {
     "name": "stdout",
     "output_type": "stream",
     "text": [
      "78.4630409671845\n",
      "0.9797958971132712\n"
     ]
    }
   ],
   "source": [
    "# Estimate the inclination angle\n",
    "# Edge-on is 90 deg\n",
    "# Face-on is 0 deg\n",
    "sini=(1-(minor/major)**2)**0.5\n",
    "incl=math.asin(sini)*180/math.pi\n",
    "print(incl)\n",
    "print(sini)"
   ]
  },
  {
   "cell_type": "code",
   "execution_count": 235,
   "metadata": {},
   "outputs": [
    {
     "name": "stdout",
     "output_type": "stream",
     "text": [
      "229.64 km/s\n"
     ]
    }
   ],
   "source": [
    "Vrot=Vobs/sini\n",
    "print(str(np.round(Vrot,2))+\" km/s\")"
   ]
  },
  {
   "cell_type": "code",
   "execution_count": 236,
   "metadata": {},
   "outputs": [],
   "source": [
    "Mdyn=R_HI*(cst.kpc).value*(Vrot*1000)**2/cst.G.value/cst.M_sun.value"
   ]
  },
  {
   "cell_type": "code",
   "execution_count": 237,
   "metadata": {},
   "outputs": [
    {
     "name": "stdout",
     "output_type": "stream",
     "text": [
      "1.32E11 Msun\n"
     ]
    }
   ],
   "source": [
    "print(str(np.round(Mdyn/1e11,2))+\"E11 Msun\")"
   ]
  },
  {
   "cell_type": "code",
   "execution_count": 242,
   "metadata": {},
   "outputs": [
    {
     "name": "stdout",
     "output_type": "stream",
     "text": [
      "Log10(Mdyn)=11.12\n"
     ]
    }
   ],
   "source": [
    "print(\"Log10(Mdyn)=\"+str(np.round(math.log10(Mdyn),2)))"
   ]
  },
  {
   "cell_type": "code",
   "execution_count": null,
   "metadata": {},
   "outputs": [],
   "source": []
  },
  {
   "cell_type": "code",
   "execution_count": null,
   "metadata": {},
   "outputs": [],
   "source": []
  }
 ],
 "metadata": {
  "kernelspec": {
   "display_name": "Python 3",
   "language": "python",
   "name": "python3"
  },
  "language_info": {
   "codemirror_mode": {
    "name": "ipython",
    "version": 3
   },
   "file_extension": ".py",
   "mimetype": "text/x-python",
   "name": "python",
   "nbconvert_exporter": "python",
   "pygments_lexer": "ipython3",
   "version": "3.7.9"
  }
 },
 "nbformat": 4,
 "nbformat_minor": 4
}
