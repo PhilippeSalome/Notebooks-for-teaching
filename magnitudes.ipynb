{
 "cells": [
  {
   "cell_type": "markdown",
   "metadata": {},
   "source": [
    "# Problem 5.2"
   ]
  },
  {
   "cell_type": "code",
   "execution_count": 1,
   "metadata": {},
   "outputs": [
    {
     "name": "stderr",
     "output_type": "stream",
     "text": [
      "UsageError: %%latex is a cell magic, but the cell body is empty.\n"
     ]
    }
   ],
   "source": [
    "%%latex"
   ]
  },
  {
   "cell_type": "markdown",
   "metadata": {},
   "source": [
    "> Show that a central brightness of 15 mag.arcsec-2 in the I-band is 18000 Lsun/pc2<br>"
   ]
  },
  {
   "cell_type": "markdown",
   "metadata": {},
   "source": [
    "$$\\displaystyle \\mu_{\\rm{v}}(\\rm{mag}/{\\rm {arcsec}}^{2})=M_{\\rm {v}_\\odot }+21.572-2.5\\log _{10}S_v(L_{\\odot }/{\\rm {pc}}^{2})$$"
   ]
  },
  {
   "cell_type": "markdown",
   "metadata": {},
   "source": [
    "##### Reminder\n",
    ">Let's put the sun at 10pc, its magnitude is m_I = M_I+log10(10/10)<br>\n",
    ">Distance Modulus  : m-M = 5 log10(d/10pc) --> m=M if the sun at 10pc <br>\n",
    ">M_I = M_v +(I-V)  with Table 1.4 p23 <br>\n",
    "M_v=4.83, I-V=-0.72 <br>\n",
    ">Surface Brightness : S (mag/arcsec2) = m +2.5 log10(A), with A the area in arcsec2<br>\n",
    ">1 Lsun/pc2 correspond to the surface brightness (in mag.arcsec-2) of the Sun at 10pc under an angle of (1/10)**2 arcsec2<br>\n",
    ">What is the surface area of the Sun at a distance of 10pc if spread over 1pc2 ? ie, the A that correspond to 1 Lsun/pc2"
   ]
  },
  {
   "cell_type": "code",
   "execution_count": 2,
   "metadata": {},
   "outputs": [
    {
     "name": "stdout",
     "output_type": "stream",
     "text": [
      "4.11\n"
     ]
    }
   ],
   "source": [
    "M_I=4.83-0.72\n",
    "print(M_I)"
   ]
  },
  {
   "cell_type": "code",
   "execution_count": 3,
   "metadata": {},
   "outputs": [],
   "source": [
    "import astropy\n",
    "from astropy import units as u\n",
    "import math"
   ]
  },
  {
   "cell_type": "code",
   "execution_count": 4,
   "metadata": {},
   "outputs": [
    {
     "name": "stdout",
     "output_type": "stream",
     "text": [
      "0.010000000000000002 rad2\n"
     ]
    }
   ],
   "source": [
    "A=(1*u.pc/(10*u.pc))**2*u.rad*u.rad\n",
    "print(A)"
   ]
  },
  {
   "cell_type": "code",
   "execution_count": 5,
   "metadata": {},
   "outputs": [],
   "source": [
    "A_arcsec2=A.to(u.arcsec*u.arcsec)"
   ]
  },
  {
   "cell_type": "code",
   "execution_count": 6,
   "metadata": {},
   "outputs": [
    {
     "name": "stdout",
     "output_type": "stream",
     "text": [
      "425451702.96152204 arcsec2\n"
     ]
    }
   ],
   "source": [
    "print(A_arcsec2)"
   ]
  },
  {
   "cell_type": "code",
   "execution_count": 7,
   "metadata": {},
   "outputs": [],
   "source": [
    "m_I=M_I+5*math.log10(10./10)"
   ]
  },
  {
   "cell_type": "code",
   "execution_count": 8,
   "metadata": {},
   "outputs": [],
   "source": [
    "mu_I=m_I+2.5*math.log10(A_arcsec2.value)"
   ]
  },
  {
   "cell_type": "code",
   "execution_count": 9,
   "metadata": {},
   "outputs": [
    {
     "data": {
      "text/plain": [
       "21.572125665882297"
      ]
     },
     "execution_count": 9,
     "metadata": {},
     "output_type": "execute_result"
    }
   ],
   "source": [
    "2.5*math.log10(A_arcsec2.value)"
   ]
  },
  {
   "cell_type": "code",
   "execution_count": 10,
   "metadata": {},
   "outputs": [],
   "source": [
    "mu_I=M_I+21.57"
   ]
  },
  {
   "cell_type": "code",
   "execution_count": 11,
   "metadata": {},
   "outputs": [
    {
     "name": "stdout",
     "output_type": "stream",
     "text": [
      "mu_I (mag/arcsec2) = 25.68 is 1 L_sun/yr\n"
     ]
    }
   ],
   "source": [
    "print(\"mu_I (mag/arcsec2) = \"+str(mu_I)+ \" is 1 L_sun/yr\")"
   ]
  },
  {
   "cell_type": "code",
   "execution_count": 12,
   "metadata": {},
   "outputs": [],
   "source": [
    "mu = 15 # mag/arcsec2"
   ]
  },
  {
   "cell_type": "code",
   "execution_count": 13,
   "metadata": {},
   "outputs": [],
   "source": [
    "S_I=10**((mu_I-mu)/2.5)"
   ]
  },
  {
   "cell_type": "code",
   "execution_count": 14,
   "metadata": {},
   "outputs": [
    {
     "name": "stdout",
     "output_type": "stream",
     "text": [
      "18706.821403658018 Lsun/yr\n"
     ]
    }
   ],
   "source": [
    "print(str(S_I)+\" Lsun/yr\") "
   ]
  },
  {
   "cell_type": "code",
   "execution_count": null,
   "metadata": {},
   "outputs": [],
   "source": []
  },
  {
   "cell_type": "code",
   "execution_count": null,
   "metadata": {},
   "outputs": [],
   "source": []
  }
 ],
 "metadata": {
  "kernelspec": {
   "display_name": "Python 3",
   "language": "python",
   "name": "python3"
  },
  "language_info": {
   "codemirror_mode": {
    "name": "ipython",
    "version": 3
   },
   "file_extension": ".py",
   "mimetype": "text/x-python",
   "name": "python",
   "nbconvert_exporter": "python",
   "pygments_lexer": "ipython3",
   "version": "3.7.9"
  }
 },
 "nbformat": 4,
 "nbformat_minor": 2
}
